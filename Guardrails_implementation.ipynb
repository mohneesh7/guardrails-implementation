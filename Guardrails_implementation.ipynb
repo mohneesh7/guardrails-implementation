{
 "cells": [
  {
   "cell_type": "code",
   "execution_count": null,
   "metadata": {},
   "outputs": [],
   "source": [
    "# !pip install guardrails-ai\n",
    "# !guardrails configure"
   ]
  },
  {
   "cell_type": "code",
   "execution_count": null,
   "metadata": {},
   "outputs": [],
   "source": [
    "# guardrails hub install hub://guardrails/bert_toxic;\n",
    "# guardrails hub install hub://guardrails/competitor_check;"
   ]
  },
  {
   "cell_type": "code",
   "execution_count": null,
   "metadata": {},
   "outputs": [],
   "source": [
    "%%writefile config.py\n",
    "from guardrails import Guard, OnFailAction\n",
    "from guardrails.hub import (\n",
    "    ToxicLanguage,\n",
    "    CompetitorCheck\n",
    ")\n",
    "\n",
    "guard = Guard(name=\"comp-toxic\").use_many(\n",
    "    ToxicLanguage(\n",
    "        threshold=0.5,\n",
    "        validation_method=\"sentence\",\n",
    "        on_fail=OnFailAction.EXCEPTION\n",
    "    ),\n",
    "    CompetitorCheck(\n",
    "        competitors=[\"Apple\", \"Microsoft\", \"Google\"]\n",
    "    )\n",
    ")\n",
    "\n",
    "# guard.validate(\"Shut the hell up, we are going to the apple event today.\")\n",
    "# print(guard.validate(\"Hello have a nice day. this is going good.\"))"
   ]
  },
  {
   "cell_type": "code",
   "execution_count": null,
   "metadata": {},
   "outputs": [],
   "source": [
    "%%writefile guard_test.py\n",
    "from guardrails import Guard\n",
    "\n",
    "name_guard = Guard.fetch_guard(name=\"comp-toxic\")\n",
    "\n",
    "validation_outcome = name_guard.validate(\"Hello have a nice day. this is going good I am on the way to buy an Apple phone and return you dipshit.\")\n",
    "print(validation_outcome)"
   ]
  },
  {
   "cell_type": "code",
   "execution_count": null,
   "metadata": {},
   "outputs": [],
   "source": [
    "!python guard_test.py"
   ]
  },
  {
   "cell_type": "code",
   "execution_count": null,
   "metadata": {},
   "outputs": [],
   "source": []
  }
 ],
 "metadata": {
  "kernelspec": {
   "display_name": "venv",
   "language": "python",
   "name": "python3"
  },
  "language_info": {
   "codemirror_mode": {
    "name": "ipython",
    "version": 3
   },
   "file_extension": ".py",
   "mimetype": "text/x-python",
   "name": "python",
   "nbconvert_exporter": "python",
   "pygments_lexer": "ipython3",
   "version": "3.10.12"
  }
 },
 "nbformat": 4,
 "nbformat_minor": 2
}
